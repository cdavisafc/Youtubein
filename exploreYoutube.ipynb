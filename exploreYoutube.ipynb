{
 "cells": [
  {
   "cell_type": "code",
   "execution_count": null,
   "metadata": {},
   "outputs": [],
   "source": [
    "from youtubeoauth import youtubeAuth\n",
    "import json\n",
    "\n",
    "youtube = youtubeAuth()"
   ]
  },
  {
   "cell_type": "code",
   "execution_count": null,
   "metadata": {},
   "outputs": [],
   "source": [
    "request = youtube.playlists().list(\n",
    "        part=\"snippet\",\n",
    "        mine=True\n",
    "    )\n",
    "\n",
    "response = request.execute()\n",
    "\n",
    "#response_json = json.loads(response)\n",
    "response_pretty = json.dumps(response, indent=2)\n",
    "\n",
    "print(response_pretty)"
   ]
  },
  {
   "cell_type": "code",
   "execution_count": null,
   "metadata": {},
   "outputs": [],
   "source": [
    "request = youtube.playlistItems().list(\n",
    "        part=\"contentDetails\",\n",
    "        playlistId=\"HL\" # Getting watch history through the Google Data API is no longer supported (https://developers.google.com/youtube/v3/revision_history#august-11,-2016)\n",
    "    )\n",
    "response = request.execute()\n",
    "\n",
    "response_pretty = json.dumps(response, indent=2)\n",
    "\n",
    "print(response_pretty)"
   ]
  },
  {
   "cell_type": "code",
   "execution_count": null,
   "metadata": {},
   "outputs": [],
   "source": [
    "import html_to_json\n",
    "\n",
    "f = open(\"watch-history.html\")\n",
    "htmlstr = f.read()\n",
    "\n",
    "j = html_to_json.convert(htmlstr)\n",
    "rp = json.dumps(j, indent=2)\n",
    "\n",
    "print(rp)"
   ]
  },
  {
   "cell_type": "code",
   "execution_count": null,
   "metadata": {},
   "outputs": [],
   "source": [
    "from pyquery import PyQuery as pq\n",
    "\n",
    "wlHtml = pq(filename = 'watch-history.html')\n",
    "\n",
    "#allEntries = wlHtml(\".outer-cell.mdl-cell.mdl-cell--12-col.mdl-shadow--2dp\") #all entries\n",
    "#allEntries = wlHtml(\".outer-cell.mdl-cell.mdl-cell--12-col.mdl-shadow--2dp:contains('From Google Ads')\") #entries that are ads\n",
    "allEntries = wlHtml(\".outer-cell.mdl-cell.mdl-cell--12-col.mdl-shadow--2dp\").not_(\":contains('From Google Ads')\") #entries that are NOT ads\n",
    "\n",
    "print(allEntries.html())"
   ]
  }
 ],
 "metadata": {
  "kernelspec": {
   "display_name": "Python 3",
   "language": "python",
   "name": "python3"
  },
  "language_info": {
   "codemirror_mode": {
    "name": "ipython",
    "version": 3
   },
   "file_extension": ".py",
   "mimetype": "text/x-python",
   "name": "python",
   "nbconvert_exporter": "python",
   "pygments_lexer": "ipython3",
   "version": "3.10.9"
  },
  "orig_nbformat": 4,
  "vscode": {
   "interpreter": {
    "hash": "aee8b7b246df8f9039afb4144a1f6fd8d2ca17a180786b69acc140d282b71a49"
   }
  }
 },
 "nbformat": 4,
 "nbformat_minor": 2
}
